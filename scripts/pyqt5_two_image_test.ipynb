{
 "cells": [
  {
   "cell_type": "code",
   "execution_count": 118,
   "metadata": {},
   "outputs": [],
   "source": [
    "from helpers import *\n",
    "import numpy as np\n",
    "import matplotlib.pyplot as plt\n",
    "import cv2\n",
    "from IPython.display import display, clear_output\n",
    "from PIL import Image\n",
    "from io import BytesIO\n",
    "import time\n",
    "import concurrent.futures\n",
    "import cProfile\n",
    "import pstats\n",
    "import io\n",
    "import sys\n",
    "import threading\n",
    "import torch\n",
    "import gc\n",
    "from PyQt5.QtWidgets import QApplication, QLabel, QWidget, QVBoxLayout\n",
    "from PyQt5.QtGui import QImage, QPixmap\n",
    "from PyQt5.QtCore import pyqtSignal, pyqtSlot, Qt, QThread"
   ]
  },
  {
   "cell_type": "code",
   "execution_count": 2,
   "metadata": {},
   "outputs": [
    {
     "name": "stdout",
     "output_type": "stream",
     "text": [
      "Loading model from ../model_weights/v2-1_512-ema-pruned.ckpt\n"
     ]
    },
    {
     "name": "stderr",
     "output_type": "stream",
     "text": [
      "A matching Triton is not available, some optimizations will not be enabled.\n",
      "Error caught was: No module named 'triton'\n"
     ]
    },
    {
     "name": "stdout",
     "output_type": "stream",
     "text": [
      "Global Step: 220000\n",
      "LatentDiffusion: Running in eps-prediction mode\n",
      "Setting up MemoryEfficientCrossAttention. Query dim is 320, context_dim is None and using 5 heads.\n",
      "Setting up MemoryEfficientCrossAttention. Query dim is 320, context_dim is 1024 and using 5 heads.\n",
      "Setting up MemoryEfficientCrossAttention. Query dim is 320, context_dim is None and using 5 heads.\n",
      "Setting up MemoryEfficientCrossAttention. Query dim is 320, context_dim is 1024 and using 5 heads.\n",
      "Setting up MemoryEfficientCrossAttention. Query dim is 640, context_dim is None and using 10 heads.\n",
      "Setting up MemoryEfficientCrossAttention. Query dim is 640, context_dim is 1024 and using 10 heads.\n",
      "Setting up MemoryEfficientCrossAttention. Query dim is 640, context_dim is None and using 10 heads.\n",
      "Setting up MemoryEfficientCrossAttention. Query dim is 640, context_dim is 1024 and using 10 heads.\n",
      "Setting up MemoryEfficientCrossAttention. Query dim is 1280, context_dim is None and using 20 heads.\n",
      "Setting up MemoryEfficientCrossAttention. Query dim is 1280, context_dim is 1024 and using 20 heads.\n",
      "Setting up MemoryEfficientCrossAttention. Query dim is 1280, context_dim is None and using 20 heads.\n",
      "Setting up MemoryEfficientCrossAttention. Query dim is 1280, context_dim is 1024 and using 20 heads.\n",
      "Setting up MemoryEfficientCrossAttention. Query dim is 1280, context_dim is None and using 20 heads.\n",
      "Setting up MemoryEfficientCrossAttention. Query dim is 1280, context_dim is 1024 and using 20 heads.\n",
      "Setting up MemoryEfficientCrossAttention. Query dim is 1280, context_dim is None and using 20 heads.\n",
      "Setting up MemoryEfficientCrossAttention. Query dim is 1280, context_dim is 1024 and using 20 heads.\n",
      "Setting up MemoryEfficientCrossAttention. Query dim is 1280, context_dim is None and using 20 heads.\n",
      "Setting up MemoryEfficientCrossAttention. Query dim is 1280, context_dim is 1024 and using 20 heads.\n",
      "Setting up MemoryEfficientCrossAttention. Query dim is 1280, context_dim is None and using 20 heads.\n",
      "Setting up MemoryEfficientCrossAttention. Query dim is 1280, context_dim is 1024 and using 20 heads.\n",
      "Setting up MemoryEfficientCrossAttention. Query dim is 640, context_dim is None and using 10 heads.\n",
      "Setting up MemoryEfficientCrossAttention. Query dim is 640, context_dim is 1024 and using 10 heads.\n",
      "Setting up MemoryEfficientCrossAttention. Query dim is 640, context_dim is None and using 10 heads.\n",
      "Setting up MemoryEfficientCrossAttention. Query dim is 640, context_dim is 1024 and using 10 heads.\n",
      "Setting up MemoryEfficientCrossAttention. Query dim is 640, context_dim is None and using 10 heads.\n",
      "Setting up MemoryEfficientCrossAttention. Query dim is 640, context_dim is 1024 and using 10 heads.\n",
      "Setting up MemoryEfficientCrossAttention. Query dim is 320, context_dim is None and using 5 heads.\n",
      "Setting up MemoryEfficientCrossAttention. Query dim is 320, context_dim is 1024 and using 5 heads.\n",
      "Setting up MemoryEfficientCrossAttention. Query dim is 320, context_dim is None and using 5 heads.\n",
      "Setting up MemoryEfficientCrossAttention. Query dim is 320, context_dim is 1024 and using 5 heads.\n",
      "Setting up MemoryEfficientCrossAttention. Query dim is 320, context_dim is None and using 5 heads.\n",
      "Setting up MemoryEfficientCrossAttention. Query dim is 320, context_dim is 1024 and using 5 heads.\n",
      "DiffusionWrapper has 865.91 M params.\n",
      "making attention of type 'vanilla-xformers' with 512 in_channels\n",
      "building MemoryEfficientAttnBlock with 512 in_channels...\n",
      "Working with z of shape (1, 4, 32, 32) = 4096 dimensions.\n",
      "making attention of type 'vanilla-xformers' with 512 in_channels\n",
      "building MemoryEfficientAttnBlock with 512 in_channels...\n"
     ]
    }
   ],
   "source": [
    "esrgan_model = initialize_esrgan()\n",
    "model = init_sd()"
   ]
  },
  {
   "cell_type": "code",
   "execution_count": 3,
   "metadata": {},
   "outputs": [],
   "source": [
    "prompt3 = '''A realistic, highly-detailed australian shepherd catching a fish with \\\n",
    "    its mouth from a river in the countryside, mountainous background, beautiful \\\n",
    "    sunny day, symmetrical face, beautiful eyes, detailed eyes, detailed paws, \\\n",
    "    symmetrical legs, realistic fur, high-resolution.'''\n",
    "prompt1 = '''A suureal, stylistic australian shepherd catching an ethereal glowing fish with \\\n",
    "    its mouth from a majestic psychedelic river in the colorful countryside, mountainous background, beautiful \\\n",
    "    sunny day, symmetrical face, beautiful eyes, detailed eyes, detailed paws, \\\n",
    "    symmetrical legs, Salvador Dali, surreal.'''\n",
    "prompt2 = '''A tiger stalking its prey in the woods at dusk, dark, eerie, creepy, beautiful and majestic, ethereal, \\\n",
    "    surreal and psychedelic, in the style of Bosch, during dusk, big moon, detailed paws.'''\n",
    "options = get_options_dict(model)"
   ]
  },
  {
   "cell_type": "code",
   "execution_count": 4,
   "metadata": {},
   "outputs": [
    {
     "name": "stderr",
     "output_type": "stream",
     "text": [
      "Global seed set to 5394403\n",
      "data: 100%|██████████| 1/1 [00:00<00:00,  4.91it/s]\n",
      "Sampling: 100%|██████████| 1/1 [00:00<00:00,  4.88it/s]\n"
     ]
    },
    {
     "name": "stdout",
     "output_type": "stream",
     "text": [
      "Data shape for DDIM sampling is (1, 4, 72, 128), eta 0.0\n",
      "Running DDIM Sampling with 50 timesteps\n"
     ]
    },
    {
     "name": "stderr",
     "output_type": "stream",
     "text": [
      "DDIM Sampler: 100%|██████████| 50/50 [00:03<00:00, 16.43it/s]\n",
      "Global seed set to 5394403\n",
      "data: 100%|██████████| 1/1 [00:00<00:00,  6.79it/s]\n",
      "Sampling: 100%|██████████| 1/1 [00:00<00:00,  6.70it/s]\n"
     ]
    },
    {
     "name": "stdout",
     "output_type": "stream",
     "text": [
      "Data shape for DDIM sampling is (1, 4, 72, 128), eta 0.0\n",
      "Running DDIM Sampling with 50 timesteps\n"
     ]
    },
    {
     "name": "stderr",
     "output_type": "stream",
     "text": [
      "DDIM Sampler: 100%|██████████| 50/50 [00:02<00:00, 18.58it/s]\n"
     ]
    }
   ],
   "source": [
    "ucs, cs, text_enc_time = encode_text(model, prompt1, options)\n",
    "encoded_samples1, sample_enc_time = encode_samples(model, ucs, cs, options)\n",
    "\n",
    "ucs, cs, text_enc_time = encode_text(model, prompt2, options)\n",
    "encoded_samples2, sample_enc_time = encode_samples(model, ucs, cs, options)"
   ]
  },
  {
   "cell_type": "code",
   "execution_count": 173,
   "metadata": {},
   "outputs": [],
   "source": [
    "dream_step_size = 35\n",
    "diff_vec = (encoded_samples2[0] - encoded_samples1[0]) / dream_step_size"
   ]
  },
  {
   "cell_type": "code",
   "execution_count": 177,
   "metadata": {},
   "outputs": [],
   "source": [
    "class ImageDisplay(QWidget):\n",
    "    update_image = pyqtSignal(QImage)\n",
    "\n",
    "    def __init__(self):\n",
    "        super().__init__()\n",
    "        self.image_label = QLabel(self)\n",
    "        layout = QVBoxLayout()\n",
    "        layout.addWidget(self.image_label)\n",
    "        self.setLayout(layout)\n",
    "        self.update_image.connect(self.setImage)\n",
    "\n",
    "    @pyqtSlot(QImage)\n",
    "    def setImage(self, image):\n",
    "        pixmap = QPixmap.fromImage(image)\n",
    "        self.image_label.setPixmap(pixmap)\n",
    "\n",
    "\n",
    "def convert_array_to_qimage(array):\n",
    "    height, width, channels = array.shape\n",
    "    bytes_per_line = channels * width\n",
    "    array = array.astype(np.uint8)\n",
    "    qimage = QImage(array.tobytes(), width, height, bytes_per_line, QImage.Format_RGB888)\n",
    "    return qimage\n",
    "\n",
    "\n",
    "def generate_next_frames(model, encoded_samples):\n",
    "    start_time = time.time()\n",
    "    with torch.no_grad(), \\\n",
    "        options['precision_scope'](\"cuda\"), \\\n",
    "        model.ema_scope():\n",
    "            x_samples = model.decode_first_stage(encoded_samples)\n",
    "            x_samples = torch.clamp((x_samples + 1.0) / 2.0, min=0.0, max=1.0)\n",
    "    end_time = time.time()\n",
    "    return x_samples, (end_time - start_time)\n",
    "\n",
    "\n",
    "def dream_thread(display_widget):\n",
    "    dream_times = list()\n",
    "    frame_times = list()\n",
    "    cleaning_times = list()\n",
    "    display_times = list()\n",
    "    encoded_dream_all_samples = [encoded_samples1[0] + diff_vec * i for i in range(75)]\n",
    "    encoded_dream_all_samples = torch.cat(encoded_dream_all_samples, dim=0)\n",
    "    batch_size = 1\n",
    "    clean_freq = 2\n",
    "\n",
    "    while True:\n",
    "        for i in range(0, dream_step_size, batch_size):\n",
    "            start_time = time.time()\n",
    "            dream_samples, dream_gen_time = generate_next_frames(model, encoded_dream_all_samples[i:i+1])\n",
    "            dream_samples = (dream_samples * 255).to(torch.uint8)\n",
    "            dream_samples = dream_samples.permute(0, 2, 3, 1).to('cpu', non_blocking=True).numpy()\n",
    "\n",
    "            start_display = time.time()\n",
    "            for dream in dream_samples:\n",
    "                qimage = convert_array_to_qimage(dream)\n",
    "                display_widget.update_image.emit(qimage)\n",
    "            end_display = time.time()\n",
    "\n",
    "            if (i / batch_size) % clean_freq == 0:\n",
    "                start_cleaning = time.time()\n",
    "                # torch.cuda.empty_cache()\n",
    "                gc.collect()\n",
    "                end_cleaning = time.time()\n",
    "\n",
    "            end_time = time.time()\n",
    "            dream_times.append(dream_gen_time)\n",
    "            display_times.append(end_display - start_display)\n",
    "            cleaning_times.append(end_cleaning - start_cleaning)\n",
    "            frame_times.append(end_time - start_time)\n",
    "        for i in range(dream_step_size-1, 0, -batch_size):\n",
    "            start_time = time.time()\n",
    "            dream_samples, dream_gen_time = generate_next_frames(model, encoded_dream_all_samples[i:i+1])\n",
    "            dream_samples = (dream_samples * 255).to(torch.uint8)\n",
    "            dream_samples = dream_samples.permute(0, 2, 3, 1).to('cpu', non_blocking=True).numpy()\n",
    "\n",
    "            start_display = time.time()\n",
    "            for dream in dream_samples:\n",
    "                qimage = convert_array_to_qimage(dream)\n",
    "                display_widget.update_image.emit(qimage)\n",
    "            end_display = time.time()\n",
    "\n",
    "            if (i / batch_size) % clean_freq == 0:\n",
    "                start_cleaning = time.time()\n",
    "                # torch.cuda.empty_cache()\n",
    "                gc.collect()\n",
    "                end_cleaning = time.time()\n",
    "\n",
    "            end_time = time.time()\n",
    "            dream_times.append(dream_gen_time)\n",
    "            display_times.append(end_display - start_display)\n",
    "            cleaning_times.append(end_cleaning - start_cleaning)\n",
    "            frame_times.append(end_time - start_time)\n",
    "        print(f'Average dream time: {sum(dream_times) / len(dream_times)}')\n",
    "        print(f'Average display time: {sum(display_times) / len(display_times)}')\n",
    "        print(f'Average cleaning time: {sum(cleaning_times) / len(cleaning_times)}')\n",
    "        print(f'Average time per frame: {sum(frame_times) / len(frame_times)}')\n",
    "\n",
    "\n",
    "def start_gui_and_processing():\n",
    "    app = QApplication.instance()\n",
    "    if not app:\n",
    "        app = QApplication(sys.argv)\n",
    "\n",
    "    display_widget = ImageDisplay()\n",
    "    display_widget.show()\n",
    "\n",
    "    thread = threading.Thread(target=dream_thread, args=(display_widget,))\n",
    "    thread.start()\n",
    "\n",
    "    app.exec_()\n",
    "\n",
    "    display_widget.deleteLater()"
   ]
  },
  {
   "cell_type": "code",
   "execution_count": 178,
   "metadata": {},
   "outputs": [
    {
     "name": "stdout",
     "output_type": "stream",
     "text": [
      "Average dream time: 0.0746942603069803\n",
      "Average display time: 0.005852961885756341\n",
      "Average cleaning time: 0.07371104627415753\n",
      "Average time per frame: 0.11812242563220038\n",
      "Average dream time: 0.07605285748191502\n",
      "Average display time: 0.006113247594971588\n",
      "Average cleaning time: 0.07353977016780687\n",
      "Average time per frame: 0.1196395867112754\n",
      "Average dream time: 0.07654865582784016\n",
      "Average display time: 0.006287730258444081\n",
      "Average cleaning time: 0.07329297987159324\n",
      "Average time per frame: 0.1201918631936041\n"
     ]
    },
    {
     "name": "stdout",
     "output_type": "stream",
     "text": [
      "Average dream time: 0.0770832239717677\n",
      "Average display time: 0.005998398082843725\n",
      "Average cleaning time: 0.07346349695454472\n",
      "Average time per frame: 0.12051522990931636\n",
      "Average dream time: 0.07673052013784215\n",
      "Average display time: 0.006024698589159095\n",
      "Average cleaning time: 0.0732355781223463\n",
      "Average time per frame: 0.12008946874867314\n",
      "Average dream time: 0.0773047663739338\n",
      "Average display time: 0.005770583659554449\n",
      "Average cleaning time: 0.0735324223836263\n",
      "Average time per frame: 0.12056749166497861\n",
      "Average dream time: 0.07786526689865081\n",
      "Average display time: 0.005678943472125763\n",
      "Average cleaning time: 0.07351992046364099\n",
      "Average time per frame: 0.12102841146244026\n",
      "Average dream time: 0.07761900666831197\n",
      "Average display time: 0.00572223248689071\n",
      "Average cleaning time: 0.0732229585232942\n",
      "Average time per frame: 0.12067372384278671\n",
      "Average dream time: 0.07736721207746178\n",
      "Average display time: 0.005806504816248797\n",
      "Average cleaning time: 0.07301936863701125\n",
      "Average time per frame: 0.12039591379211721\n",
      "Average dream time: 0.07748616640118586\n",
      "Average display time: 0.005739257646643597\n",
      "Average cleaning time: 0.07308102794315503\n",
      "Average time per frame: 0.12047777210456738\n",
      "Average dream time: 0.07727267179878647\n",
      "Average display time: 0.005791317018752669\n",
      "Average cleaning time: 0.07318724913716473\n",
      "Average time per frame: 0.12036605785957909\n"
     ]
    }
   ],
   "source": [
    "start_gui_and_processing()"
   ]
  },
  {
   "cell_type": "code",
   "execution_count": null,
   "metadata": {},
   "outputs": [],
   "source": []
  }
 ],
 "metadata": {
  "kernelspec": {
   "display_name": "stable-diffusion",
   "language": "python",
   "name": "python3"
  },
  "language_info": {
   "codemirror_mode": {
    "name": "ipython",
    "version": 3
   },
   "file_extension": ".py",
   "mimetype": "text/x-python",
   "name": "python",
   "nbconvert_exporter": "python",
   "pygments_lexer": "ipython3",
   "version": "3.10.13"
  }
 },
 "nbformat": 4,
 "nbformat_minor": 2
}
